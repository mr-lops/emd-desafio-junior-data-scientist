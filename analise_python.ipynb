{
  "nbformat": 4,
  "nbformat_minor": 0,
  "metadata": {
    "colab": {
      "provenance": []
    },
    "kernelspec": {
      "name": "python3",
      "display_name": "Python 3"
    },
    "language_info": {
      "name": "python"
    }
  },
  "cells": [
    {
      "cell_type": "markdown",
      "source": [
        "<h1 align='center'> Desafio Técnico Junior Data Scientist - Prefeitura do Rio de Janeiro </h1>"
      ],
      "metadata": {
        "id": "JJbDlAmYj3P_"
      }
    },
    {
      "cell_type": "code",
      "source": [
        "# Instala pacotes necessários\n",
        "!pip install basedosdados pandas matplotlib"
      ],
      "metadata": {
        "colab": {
          "base_uri": "https://localhost:8080/",
          "height": 1000
        },
        "id": "zZDtW8n18gbI",
        "outputId": "3cd77cf7-1003-4e5d-e516-5024aa0d938f"
      },
      "execution_count": 2,
      "outputs": [
        {
          "output_type": "stream",
          "name": "stdout",
          "text": [
            "Collecting basedosdados\n",
            "  Downloading basedosdados-1.6.11-py3-none-any.whl (51 kB)\n",
            "\u001b[2K     \u001b[90m━━━━━━━━━━━━━━━━━━━━━━━━━━━━━━━━━━━━━━━━\u001b[0m \u001b[32m51.1/51.1 kB\u001b[0m \u001b[31m916.6 kB/s\u001b[0m eta \u001b[36m0:00:00\u001b[0m\n",
            "\u001b[?25hRequirement already satisfied: pandas in /usr/local/lib/python3.10/dist-packages (1.5.3)\n",
            "Requirement already satisfied: matplotlib in /usr/local/lib/python3.10/dist-packages (3.7.1)\n",
            "Collecting Jinja2==3.0.3 (from basedosdados)\n",
            "  Downloading Jinja2-3.0.3-py3-none-any.whl (133 kB)\n",
            "\u001b[2K     \u001b[90m━━━━━━━━━━━━━━━━━━━━━━━━━━━━━━━━━━━━━━━━\u001b[0m \u001b[32m133.6/133.6 kB\u001b[0m \u001b[31m2.8 MB/s\u001b[0m eta \u001b[36m0:00:00\u001b[0m\n",
            "\u001b[?25hCollecting ckanapi==4.6 (from basedosdados)\n",
            "  Downloading ckanapi-4.6.tar.gz (32 kB)\n",
            "  Preparing metadata (setup.py) ... \u001b[?25l\u001b[?25hdone\n",
            "Collecting click==8.0.3 (from basedosdados)\n",
            "  Downloading click-8.0.3-py3-none-any.whl (97 kB)\n",
            "\u001b[2K     \u001b[90m━━━━━━━━━━━━━━━━━━━━━━━━━━━━━━━━━━━━━━━━\u001b[0m \u001b[32m97.5/97.5 kB\u001b[0m \u001b[31m9.6 MB/s\u001b[0m eta \u001b[36m0:00:00\u001b[0m\n",
            "\u001b[?25hCollecting google-cloud-bigquery==2.30.1 (from basedosdados)\n",
            "  Downloading google_cloud_bigquery-2.30.1-py2.py3-none-any.whl (203 kB)\n",
            "\u001b[2K     \u001b[90m━━━━━━━━━━━━━━━━━━━━━━━━━━━━━━━━━━━━━━━━\u001b[0m \u001b[32m204.0/204.0 kB\u001b[0m \u001b[31m10.2 MB/s\u001b[0m eta \u001b[36m0:00:00\u001b[0m\n",
            "\u001b[?25hCollecting google-cloud-bigquery-storage==1.1.0 (from basedosdados)\n",
            "  Downloading google_cloud_bigquery_storage-1.1.0-py2.py3-none-any.whl (135 kB)\n",
            "\u001b[2K     \u001b[90m━━━━━━━━━━━━━━━━━━━━━━━━━━━━━━━━━━━━━━━━\u001b[0m \u001b[32m135.2/135.2 kB\u001b[0m \u001b[31m15.4 MB/s\u001b[0m eta \u001b[36m0:00:00\u001b[0m\n",
            "\u001b[?25hCollecting google-cloud-storage==1.42.3 (from basedosdados)\n",
            "  Downloading google_cloud_storage-1.42.3-py2.py3-none-any.whl (105 kB)\n",
            "\u001b[2K     \u001b[90m━━━━━━━━━━━━━━━━━━━━━━━━━━━━━━━━━━━━━━━━\u001b[0m \u001b[32m106.0/106.0 kB\u001b[0m \u001b[31m11.7 MB/s\u001b[0m eta \u001b[36m0:00:00\u001b[0m\n",
            "\u001b[?25hCollecting importlib-metadata<5.0.0,>=4.11.3 (from basedosdados)\n",
            "  Downloading importlib_metadata-4.13.0-py3-none-any.whl (23 kB)\n",
            "Collecting loguru<0.7.0,>=0.6.0 (from basedosdados)\n",
            "  Downloading loguru-0.6.0-py3-none-any.whl (58 kB)\n",
            "\u001b[2K     \u001b[90m━━━━━━━━━━━━━━━━━━━━━━━━━━━━━━━━━━━━━━━━\u001b[0m \u001b[32m58.3/58.3 kB\u001b[0m \u001b[31m7.2 MB/s\u001b[0m eta \u001b[36m0:00:00\u001b[0m\n",
            "\u001b[?25hCollecting pandas-gbq<0.18.0,>=0.17.4 (from basedosdados)\n",
            "  Downloading pandas_gbq-0.17.9-py2.py3-none-any.whl (25 kB)\n",
            "Collecting pandavro<2.0.0,>=1.6.0 (from basedosdados)\n",
            "  Downloading pandavro-1.8.0-py3-none-any.whl (8.8 kB)\n",
            "Collecting pyaml==20.4.0 (from basedosdados)\n",
            "  Downloading pyaml-20.4.0-py2.py3-none-any.whl (17 kB)\n",
            "Collecting pyarrow==6.0.0 (from basedosdados)\n",
            "  Downloading pyarrow-6.0.0-cp310-cp310-manylinux_2_17_x86_64.manylinux2014_x86_64.whl (25.6 MB)\n",
            "\u001b[2K     \u001b[90m━━━━━━━━━━━━━━━━━━━━━━━━━━━━━━━━━━━━━━━━\u001b[0m \u001b[32m25.6/25.6 MB\u001b[0m \u001b[31m36.7 MB/s\u001b[0m eta \u001b[36m0:00:00\u001b[0m\n",
            "\u001b[?25hCollecting ruamel.yaml==0.17.10 (from basedosdados)\n",
            "  Downloading ruamel.yaml-0.17.10-py3-none-any.whl (108 kB)\n",
            "\u001b[2K     \u001b[90m━━━━━━━━━━━━━━━━━━━━━━━━━━━━━━━━━━━━━━━━\u001b[0m \u001b[32m108.4/108.4 kB\u001b[0m \u001b[31m12.8 MB/s\u001b[0m eta \u001b[36m0:00:00\u001b[0m\n",
            "\u001b[?25hCollecting shapely<2.0.0,>=1.6.0 (from basedosdados)\n",
            "  Downloading Shapely-1.8.5.post1-cp310-cp310-manylinux_2_12_x86_64.manylinux2010_x86_64.whl (2.0 MB)\n",
            "\u001b[2K     \u001b[90m━━━━━━━━━━━━━━━━━━━━━━━━━━━━━━━━━━━━━━━━\u001b[0m \u001b[32m2.0/2.0 MB\u001b[0m \u001b[31m70.8 MB/s\u001b[0m eta \u001b[36m0:00:00\u001b[0m\n",
            "\u001b[?25hRequirement already satisfied: toml<0.11.0,>=0.10.2 in /usr/local/lib/python3.10/dist-packages (from basedosdados) (0.10.2)\n",
            "Collecting tomlkit==0.7.0 (from basedosdados)\n",
            "  Downloading tomlkit-0.7.0-py2.py3-none-any.whl (32 kB)\n",
            "Collecting tqdm==4.50.2 (from basedosdados)\n",
            "  Downloading tqdm-4.50.2-py2.py3-none-any.whl (70 kB)\n",
            "\u001b[2K     \u001b[90m━━━━━━━━━━━━━━━━━━━━━━━━━━━━━━━━━━━━━━━━\u001b[0m \u001b[32m70.9/70.9 kB\u001b[0m \u001b[31m6.2 MB/s\u001b[0m eta \u001b[36m0:00:00\u001b[0m\n",
            "\u001b[?25hRequirement already satisfied: setuptools in /usr/local/lib/python3.10/dist-packages (from ckanapi==4.6->basedosdados) (67.7.2)\n",
            "Collecting docopt (from ckanapi==4.6->basedosdados)\n",
            "  Downloading docopt-0.6.2.tar.gz (25 kB)\n",
            "  Preparing metadata (setup.py) ... \u001b[?25l\u001b[?25hdone\n",
            "Requirement already satisfied: requests in /usr/local/lib/python3.10/dist-packages (from ckanapi==4.6->basedosdados) (2.31.0)\n",
            "Requirement already satisfied: python-slugify>=1.0 in /usr/local/lib/python3.10/dist-packages (from ckanapi==4.6->basedosdados) (8.0.4)\n",
            "Requirement already satisfied: six<2.0,>=1.9 in /usr/local/lib/python3.10/dist-packages (from ckanapi==4.6->basedosdados) (1.16.0)\n",
            "Requirement already satisfied: grpcio<2.0dev,>=1.38.1 in /usr/local/lib/python3.10/dist-packages (from google-cloud-bigquery==2.30.1->basedosdados) (1.60.1)\n",
            "Requirement already satisfied: google-api-core[grpc]<3.0.0dev,>=1.29.0 in /usr/local/lib/python3.10/dist-packages (from google-cloud-bigquery==2.30.1->basedosdados) (2.11.1)\n",
            "Requirement already satisfied: proto-plus>=1.10.0 in /usr/local/lib/python3.10/dist-packages (from google-cloud-bigquery==2.30.1->basedosdados) (1.23.0)\n",
            "Requirement already satisfied: google-cloud-core<3.0.0dev,>=1.4.1 in /usr/local/lib/python3.10/dist-packages (from google-cloud-bigquery==2.30.1->basedosdados) (2.3.3)\n",
            "Requirement already satisfied: google-resumable-media<3.0dev,>=0.6.0 in /usr/local/lib/python3.10/dist-packages (from google-cloud-bigquery==2.30.1->basedosdados) (2.7.0)\n",
            "Requirement already satisfied: packaging>=14.3 in /usr/local/lib/python3.10/dist-packages (from google-cloud-bigquery==2.30.1->basedosdados) (23.2)\n",
            "Requirement already satisfied: protobuf>=3.12.0 in /usr/local/lib/python3.10/dist-packages (from google-cloud-bigquery==2.30.1->basedosdados) (3.20.3)\n",
            "Requirement already satisfied: python-dateutil<3.0dev,>=2.7.2 in /usr/local/lib/python3.10/dist-packages (from google-cloud-bigquery==2.30.1->basedosdados) (2.8.2)\n",
            "Collecting google-api-core[grpc]<3.0.0dev,>=1.29.0 (from google-cloud-bigquery==2.30.1->basedosdados)\n",
            "  Downloading google_api_core-1.34.1-py3-none-any.whl (120 kB)\n",
            "\u001b[2K     \u001b[90m━━━━━━━━━━━━━━━━━━━━━━━━━━━━━━━━━━━━━━━━\u001b[0m \u001b[32m120.4/120.4 kB\u001b[0m \u001b[31m11.1 MB/s\u001b[0m eta \u001b[36m0:00:00\u001b[0m\n",
            "\u001b[?25hRequirement already satisfied: google-auth<3.0dev,>=1.25.0 in /usr/local/lib/python3.10/dist-packages (from google-cloud-storage==1.42.3->basedosdados) (2.27.0)\n",
            "Requirement already satisfied: MarkupSafe>=2.0 in /usr/local/lib/python3.10/dist-packages (from Jinja2==3.0.3->basedosdados) (2.1.5)\n",
            "Requirement already satisfied: PyYAML in /usr/local/lib/python3.10/dist-packages (from pyaml==20.4.0->basedosdados) (6.0.1)\n",
            "Requirement already satisfied: numpy>=1.16.6 in /usr/local/lib/python3.10/dist-packages (from pyarrow==6.0.0->basedosdados) (1.25.2)\n",
            "Requirement already satisfied: pytz>=2020.1 in /usr/local/lib/python3.10/dist-packages (from pandas) (2023.4)\n",
            "Requirement already satisfied: contourpy>=1.0.1 in /usr/local/lib/python3.10/dist-packages (from matplotlib) (1.2.0)\n",
            "Requirement already satisfied: cycler>=0.10 in /usr/local/lib/python3.10/dist-packages (from matplotlib) (0.12.1)\n",
            "Requirement already satisfied: fonttools>=4.22.0 in /usr/local/lib/python3.10/dist-packages (from matplotlib) (4.48.1)\n",
            "Requirement already satisfied: kiwisolver>=1.0.1 in /usr/local/lib/python3.10/dist-packages (from matplotlib) (1.4.5)\n",
            "Requirement already satisfied: pillow>=6.2.0 in /usr/local/lib/python3.10/dist-packages (from matplotlib) (9.4.0)\n",
            "Requirement already satisfied: pyparsing>=2.3.1 in /usr/local/lib/python3.10/dist-packages (from matplotlib) (3.1.1)\n",
            "Requirement already satisfied: zipp>=0.5 in /usr/local/lib/python3.10/dist-packages (from importlib-metadata<5.0.0,>=4.11.3->basedosdados) (3.17.0)\n",
            "Requirement already satisfied: db-dtypes<2.0.0,>=0.3.1 in /usr/local/lib/python3.10/dist-packages (from pandas-gbq<0.18.0,>=0.17.4->basedosdados) (1.2.0)\n",
            "Requirement already satisfied: pydata-google-auth in /usr/local/lib/python3.10/dist-packages (from pandas-gbq<0.18.0,>=0.17.4->basedosdados) (1.8.2)\n",
            "Requirement already satisfied: google-auth-oauthlib>=0.0.1 in /usr/local/lib/python3.10/dist-packages (from pandas-gbq<0.18.0,>=0.17.4->basedosdados) (1.2.0)\n",
            "Collecting fastavro<2.0.0,>=1.5.1 (from pandavro<2.0.0,>=1.6.0->basedosdados)\n",
            "  Downloading fastavro-1.9.4-cp310-cp310-manylinux_2_17_x86_64.manylinux2014_x86_64.whl (3.1 MB)\n",
            "\u001b[2K     \u001b[90m━━━━━━━━━━━━━━━━━━━━━━━━━━━━━━━━━━━━━━━━\u001b[0m \u001b[32m3.1/3.1 MB\u001b[0m \u001b[31m78.9 MB/s\u001b[0m eta \u001b[36m0:00:00\u001b[0m\n",
            "\u001b[?25hRequirement already satisfied: googleapis-common-protos<2.0.dev0,>=1.56.2 in /usr/local/lib/python3.10/dist-packages (from google-api-core[grpc]<3.0.0dev,>=1.29.0->google-cloud-bigquery==2.30.1->basedosdados) (1.62.0)\n",
            "Requirement already satisfied: grpcio-status<2.0dev,>=1.33.2 in /usr/local/lib/python3.10/dist-packages (from google-api-core[grpc]<3.0.0dev,>=1.29.0->google-cloud-bigquery==2.30.1->basedosdados) (1.48.2)\n",
            "Requirement already satisfied: cachetools<6.0,>=2.0.0 in /usr/local/lib/python3.10/dist-packages (from google-auth<3.0dev,>=1.25.0->google-cloud-storage==1.42.3->basedosdados) (5.3.2)\n",
            "Requirement already satisfied: pyasn1-modules>=0.2.1 in /usr/local/lib/python3.10/dist-packages (from google-auth<3.0dev,>=1.25.0->google-cloud-storage==1.42.3->basedosdados) (0.3.0)\n",
            "Requirement already satisfied: rsa<5,>=3.1.4 in /usr/local/lib/python3.10/dist-packages (from google-auth<3.0dev,>=1.25.0->google-cloud-storage==1.42.3->basedosdados) (4.9)\n",
            "Requirement already satisfied: requests-oauthlib>=0.7.0 in /usr/local/lib/python3.10/dist-packages (from google-auth-oauthlib>=0.0.1->pandas-gbq<0.18.0,>=0.17.4->basedosdados) (1.3.1)\n",
            "Requirement already satisfied: google-crc32c<2.0dev,>=1.0 in /usr/local/lib/python3.10/dist-packages (from google-resumable-media<3.0dev,>=0.6.0->google-cloud-bigquery==2.30.1->basedosdados) (1.5.0)\n",
            "Requirement already satisfied: text-unidecode>=1.3 in /usr/local/lib/python3.10/dist-packages (from python-slugify>=1.0->ckanapi==4.6->basedosdados) (1.3)\n",
            "Requirement already satisfied: charset-normalizer<4,>=2 in /usr/local/lib/python3.10/dist-packages (from requests->ckanapi==4.6->basedosdados) (3.3.2)\n",
            "Requirement already satisfied: idna<4,>=2.5 in /usr/local/lib/python3.10/dist-packages (from requests->ckanapi==4.6->basedosdados) (3.6)\n",
            "Requirement already satisfied: urllib3<3,>=1.21.1 in /usr/local/lib/python3.10/dist-packages (from requests->ckanapi==4.6->basedosdados) (2.0.7)\n",
            "Requirement already satisfied: certifi>=2017.4.17 in /usr/local/lib/python3.10/dist-packages (from requests->ckanapi==4.6->basedosdados) (2024.2.2)\n",
            "Requirement already satisfied: pyasn1<0.6.0,>=0.4.6 in /usr/local/lib/python3.10/dist-packages (from pyasn1-modules>=0.2.1->google-auth<3.0dev,>=1.25.0->google-cloud-storage==1.42.3->basedosdados) (0.5.1)\n",
            "Requirement already satisfied: oauthlib>=3.0.0 in /usr/local/lib/python3.10/dist-packages (from requests-oauthlib>=0.7.0->google-auth-oauthlib>=0.0.1->pandas-gbq<0.18.0,>=0.17.4->basedosdados) (3.2.2)\n",
            "Building wheels for collected packages: ckanapi, docopt\n",
            "  Building wheel for ckanapi (setup.py) ... \u001b[?25l\u001b[?25hdone\n",
            "  Created wheel for ckanapi: filename=ckanapi-4.6-py3-none-any.whl size=40679 sha256=6652e58ff1eb06d22ede734fab1c0649b4d4f19b0d5bbd773025c2cd6d51da12\n",
            "  Stored in directory: /root/.cache/pip/wheels/64/30/93/f9c2ebf4e93dc7b6abd5e376cdee291a6541ee504ac6ec4062\n",
            "  Building wheel for docopt (setup.py) ... \u001b[?25l\u001b[?25hdone\n",
            "  Created wheel for docopt: filename=docopt-0.6.2-py2.py3-none-any.whl size=13706 sha256=a6caa7cfe15e69895cce1d9ce6497c3a2b0ae51136b9ae4c93c67755565b22a7\n",
            "  Stored in directory: /root/.cache/pip/wheels/fc/ab/d4/5da2067ac95b36618c629a5f93f809425700506f72c9732fac\n",
            "Successfully built ckanapi docopt\n",
            "Installing collected packages: docopt, tqdm, tomlkit, shapely, ruamel.yaml, pyarrow, pyaml, loguru, Jinja2, importlib-metadata, fastavro, click, ckanapi, pandavro, google-api-core, google-cloud-storage, google-cloud-bigquery-storage, google-cloud-bigquery, pandas-gbq, basedosdados\n",
            "  Attempting uninstall: tqdm\n",
            "    Found existing installation: tqdm 4.66.2\n",
            "    Uninstalling tqdm-4.66.2:\n",
            "      Successfully uninstalled tqdm-4.66.2\n",
            "  Attempting uninstall: shapely\n",
            "    Found existing installation: shapely 2.0.2\n",
            "    Uninstalling shapely-2.0.2:\n",
            "      Successfully uninstalled shapely-2.0.2\n",
            "  Attempting uninstall: pyarrow\n",
            "    Found existing installation: pyarrow 10.0.1\n",
            "    Uninstalling pyarrow-10.0.1:\n",
            "      Successfully uninstalled pyarrow-10.0.1\n",
            "  Attempting uninstall: Jinja2\n",
            "    Found existing installation: Jinja2 3.1.3\n",
            "    Uninstalling Jinja2-3.1.3:\n",
            "      Successfully uninstalled Jinja2-3.1.3\n",
            "  Attempting uninstall: importlib-metadata\n",
            "    Found existing installation: importlib-metadata 7.0.1\n",
            "    Uninstalling importlib-metadata-7.0.1:\n",
            "      Successfully uninstalled importlib-metadata-7.0.1\n",
            "  Attempting uninstall: click\n",
            "    Found existing installation: click 8.1.7\n",
            "    Uninstalling click-8.1.7:\n",
            "      Successfully uninstalled click-8.1.7\n",
            "  Attempting uninstall: google-api-core\n",
            "    Found existing installation: google-api-core 2.11.1\n",
            "    Uninstalling google-api-core-2.11.1:\n",
            "      Successfully uninstalled google-api-core-2.11.1\n",
            "  Attempting uninstall: google-cloud-storage\n",
            "    Found existing installation: google-cloud-storage 2.8.0\n",
            "    Uninstalling google-cloud-storage-2.8.0:\n",
            "      Successfully uninstalled google-cloud-storage-2.8.0\n",
            "  Attempting uninstall: google-cloud-bigquery-storage\n",
            "    Found existing installation: google-cloud-bigquery-storage 2.24.0\n",
            "    Uninstalling google-cloud-bigquery-storage-2.24.0:\n",
            "      Successfully uninstalled google-cloud-bigquery-storage-2.24.0\n",
            "  Attempting uninstall: google-cloud-bigquery\n",
            "    Found existing installation: google-cloud-bigquery 3.12.0\n",
            "    Uninstalling google-cloud-bigquery-3.12.0:\n",
            "      Successfully uninstalled google-cloud-bigquery-3.12.0\n",
            "  Attempting uninstall: pandas-gbq\n",
            "    Found existing installation: pandas-gbq 0.19.2\n",
            "    Uninstalling pandas-gbq-0.19.2:\n",
            "      Successfully uninstalled pandas-gbq-0.19.2\n",
            "\u001b[31mERROR: pip's dependency resolver does not currently take into account all the packages that are installed. This behaviour is the source of the following dependency conflicts.\n",
            "lida 0.0.10 requires fastapi, which is not installed.\n",
            "lida 0.0.10 requires kaleido, which is not installed.\n",
            "lida 0.0.10 requires python-multipart, which is not installed.\n",
            "lida 0.0.10 requires uvicorn, which is not installed.\n",
            "bigframes 0.20.1 requires google-cloud-bigquery[bqstorage,pandas]>=3.10.0, but you have google-cloud-bigquery 2.30.1 which is incompatible.\n",
            "bigframes 0.20.1 requires google-cloud-storage>=2.0.0, but you have google-cloud-storage 1.42.3 which is incompatible.\u001b[0m\u001b[31m\n",
            "\u001b[0mSuccessfully installed Jinja2-3.0.3 basedosdados-1.6.11 ckanapi-4.6 click-8.0.3 docopt-0.6.2 fastavro-1.9.4 google-api-core-1.34.1 google-cloud-bigquery-2.30.1 google-cloud-bigquery-storage-1.1.0 google-cloud-storage-1.42.3 importlib-metadata-4.13.0 loguru-0.6.0 pandas-gbq-0.17.9 pandavro-1.8.0 pyaml-20.4.0 pyarrow-6.0.0 ruamel.yaml-0.17.10 shapely-1.8.5.post1 tomlkit-0.7.0 tqdm-4.50.2\n"
          ]
        },
        {
          "output_type": "display_data",
          "data": {
            "application/vnd.colab-display-data+json": {
              "pip_warning": {
                "packages": [
                  "google",
                  "pyarrow"
                ]
              }
            }
          },
          "metadata": {}
        }
      ]
    },
    {
      "cell_type": "code",
      "execution_count": 3,
      "metadata": {
        "id": "imnpzl2z8A4F"
      },
      "outputs": [],
      "source": [
        "# Carrega na memoria pacotes necessários\n",
        "import pandas as pd\n",
        "import matplotlib.pyplot as plt\n",
        "import basedosdados as bd"
      ]
    },
    {
      "cell_type": "code",
      "source": [
        "# id do seu projeto, tutorial de como criar em https://docs.dados.rio/tutoriais/como-acessar-dados\n",
        "project_id = \"desafio-datario\""
      ],
      "metadata": {
        "id": "AJ88W6VbfbSm"
      },
      "execution_count": 4,
      "outputs": []
    },
    {
      "cell_type": "markdown",
      "source": [
        "<br><h3>1. Quantos chamados foram abertos no dia 01/04/2023?</h3>"
      ],
      "metadata": {
        "id": "VJQLQRxOewNb"
      }
    },
    {
      "cell_type": "code",
      "source": [
        "sql = '''\n",
        "      SELECT Count(*) AS total_chamados\n",
        "      FROM `datario.administracao_servicos_publicos.chamado_1746`\n",
        "      WHERE DATE(data_inicio) = '2023-04-01'\n",
        "        AND data_particao = \"2023-04-01\";\n",
        "'''\n",
        "\n",
        "df = bd.read_sql(sql,billing_project_id=project_id)\n",
        "\n",
        "print(\"\\n\\nForam abertos {} chamados no dia 01/04/2023.\".format(int(df[\"total_chamados\"])))"
      ],
      "metadata": {
        "colab": {
          "base_uri": "https://localhost:8080/"
        },
        "id": "nNuUZRZh8yNg",
        "outputId": "2dd5a0bb-82f0-4bfd-abdb-37f29981c4fa"
      },
      "execution_count": 56,
      "outputs": [
        {
          "output_type": "stream",
          "name": "stderr",
          "text": [
            "Downloading: 100%|██████████| 1/1 [00:00<00:00,  6.50rows/s]"
          ]
        },
        {
          "output_type": "stream",
          "name": "stdout",
          "text": [
            "\n",
            "\n",
            "Foram abertos 73 chamados no dia 01/04/2023.\n"
          ]
        },
        {
          "output_type": "stream",
          "name": "stderr",
          "text": [
            "\n"
          ]
        }
      ]
    },
    {
      "cell_type": "markdown",
      "source": [
        "<br><h3>2. Qual o tipo de chamado que teve mais teve chamados abertos no dia 01/04/2023?</h3>"
      ],
      "metadata": {
        "id": "yxEbz_taf3ZS"
      }
    },
    {
      "cell_type": "code",
      "source": [
        "sql = '''\n",
        "      SELECT tipo, COUNT(tipo) as Qtd\n",
        "      FROM `datario.administracao_servicos_publicos.chamado_1746`\n",
        "      WHERE DATE(data_inicio) = '2023-04-01'\n",
        "        AND data_particao = \"2023-04-01\"\n",
        "      GROUP BY tipo\n",
        "      ORDER BY 2 DESC\n",
        "      LIMIT 1;\n",
        "'''\n",
        "\n",
        "df = bd.read_sql(sql,billing_project_id=project_id)\n",
        "\n",
        "print(\"\\n\\n{} foi o tipo de chamado que teve mais solicitações de abertura, com {} ocorrências.\".format(str(df[\"tipo\"][0]), int(df[\"Qtd\"])))"
      ],
      "metadata": {
        "colab": {
          "base_uri": "https://localhost:8080/"
        },
        "id": "hIyNqguZiGMa",
        "outputId": "6f9fd96a-b80c-4975-a123-df842cd58e9f"
      },
      "execution_count": 57,
      "outputs": [
        {
          "output_type": "stream",
          "name": "stderr",
          "text": [
            "Downloading: 100%|██████████| 1/1 [00:00<00:00,  7.27rows/s]"
          ]
        },
        {
          "output_type": "stream",
          "name": "stdout",
          "text": [
            "\n",
            "\n",
            "Poluição sonora foi o tipo de chamado que teve mais solicitações de abertura, com 24 ocorrências.\n"
          ]
        },
        {
          "output_type": "stream",
          "name": "stderr",
          "text": [
            "\n"
          ]
        }
      ]
    },
    {
      "cell_type": "markdown",
      "source": [
        "<br><h3>3. Quais os nomes dos 3 bairros que mais tiveram chamados abertos nesse dia?</h3>"
      ],
      "metadata": {
        "id": "ufmNJErXgAoM"
      }
    },
    {
      "cell_type": "code",
      "source": [
        "sql = '''\n",
        "      SELECT b.nome as nome_bairro, COUNT(b.nome) as qtd_chamados\n",
        "      FROM `datario.administracao_servicos_publicos.chamado_1746` c\n",
        "      LEFT JOIN `datario.dados_mestres.bairro` b\n",
        "      ON c.id_bairro = b.id_bairro\n",
        "      WHERE DATE(c.data_inicio) = '2023-04-01'\n",
        "        AND c.data_particao = \"2023-04-01\"\n",
        "      GROUP BY b.nome\n",
        "      ORDER BY 2 DESC\n",
        "      LIMIT 3;\n",
        "'''\n",
        "\n",
        "df = bd.read_sql(sql,billing_project_id=project_id)\n",
        "\n",
        "plt.bar(df['nome_bairro'],df['qtd_chamados'])\n",
        "plt.show()"
      ],
      "metadata": {
        "colab": {
          "base_uri": "https://localhost:8080/",
          "height": 447
        },
        "id": "BDfo8sQejbGB",
        "outputId": "3d7a5e56-3822-4db5-d10a-2cf8f3f0f03a"
      },
      "execution_count": 58,
      "outputs": [
        {
          "output_type": "stream",
          "name": "stderr",
          "text": [
            "Downloading: 100%|██████████| 3/3 [00:00<00:00, 20.84rows/s]\n"
          ]
        },
        {
          "output_type": "display_data",
          "data": {
            "text/plain": [
              "<Figure size 640x480 with 1 Axes>"
            ],
            "image/png": "[encoded data removed]"
          },
          "metadata": {}
        }
      ]
    },
    {
      "cell_type": "markdown",
      "source": [
        "<br><h3>4. Qual o nome da subprefeitura com mais chamados abertos nesse dia?</h3>"
      ],
      "metadata": {
        "id": "EF_uiFMkgBOF"
      }
    },
    {
      "cell_type": "code",
      "source": [
        "sql = '''\n",
        "      SELECT b.subprefeitura, COUNT(b.subprefeitura) as qtd_chamados\n",
        "      FROM `datario.administracao_servicos_publicos.chamado_1746` c\n",
        "      LEFT JOIN `datario.dados_mestres.bairro` b\n",
        "      ON c.id_bairro = b.id_bairro\n",
        "      WHERE DATE(c.data_inicio) = '2023-04-01'\n",
        "        AND c.data_particao = \"2023-04-01\"\n",
        "      GROUP BY b.subprefeitura\n",
        "      ORDER BY 2 DESC\n",
        "      LIMIT 1;\n",
        "'''\n",
        "\n",
        "df = bd.read_sql(sql,billing_project_id=project_id)\n",
        "\n",
        "print(\"\\n\\n{} foi a subprefeitura que teve mais solicitações de abertura, com {} ocorrências.\".format(str(df[\"subprefeitura\"][0]), int(df[\"qtd_chamados\"])))"
      ],
      "metadata": {
        "colab": {
          "base_uri": "https://localhost:8080/"
        },
        "id": "mkym0aIYk5wQ",
        "outputId": "915f5829-8911-45cb-bc45-9b0197244bd1"
      },
      "execution_count": 59,
      "outputs": [
        {
          "output_type": "stream",
          "name": "stderr",
          "text": [
            "Downloading: 100%|██████████| 1/1 [00:00<00:00,  7.71rows/s]"
          ]
        },
        {
          "output_type": "stream",
          "name": "stdout",
          "text": [
            "\n",
            "\n",
            "Zona Norte foi a subprefeitura que teve mais solicitações de abertura, com 25 ocorrências.\n"
          ]
        },
        {
          "output_type": "stream",
          "name": "stderr",
          "text": [
            "\n"
          ]
        }
      ]
    },
    {
      "cell_type": "markdown",
      "source": [
        "<br><h3>5. Existe algum chamado aberto nesse dia que não foi associado a um bairro ou subprefeitura na tabela de bairros? Se sim, por que isso acontece?</h3>"
      ],
      "metadata": {
        "id": "WWE94d1ygBW5"
      }
    },
    {
      "cell_type": "code",
      "source": [
        "sql = '''\n",
        "      SELECT COUNT(*) as qtd\n",
        "      FROM `datario.administracao_servicos_publicos.chamado_1746` c\n",
        "      LEFT JOIN `datario.dados_mestres.bairro` b\n",
        "      ON c.id_bairro = b.id_bairro\n",
        "      WHERE DATE(c.data_inicio) = '2023-04-01'\n",
        "          AND c.data_particao = \"2023-04-01\"\n",
        "          AND (c.id_bairro IS NULL\n",
        "            OR b.subprefeitura IS NULL);\n",
        "'''\n",
        "\n",
        "df = bd.read_sql(sql,billing_project_id=project_id)\n",
        "\n",
        "print(\"\\n\\nOuve {} chamado(s) sem informações de localização.\".format(int(df[\"qtd\"])))"
      ],
      "metadata": {
        "colab": {
          "base_uri": "https://localhost:8080/"
        },
        "id": "dqY9QOSok6k3",
        "outputId": "fcd39d21-30a0-48b4-e2ed-b9831ba6c896"
      },
      "execution_count": 60,
      "outputs": [
        {
          "output_type": "stream",
          "name": "stderr",
          "text": [
            "Downloading: 100%|██████████| 1/1 [00:00<00:00,  7.25rows/s]"
          ]
        },
        {
          "output_type": "stream",
          "name": "stdout",
          "text": [
            "\n",
            "\n",
            "Ouve 1 chamado(s) sem informações de localização.\n"
          ]
        },
        {
          "output_type": "stream",
          "name": "stderr",
          "text": [
            "\n"
          ]
        }
      ]
    },
    {
      "cell_type": "code",
      "source": [
        "sql = '''\n",
        "      SELECT situacao, count(situacao) AS qtd\n",
        "      FROM `datario.administracao_servicos_publicos.chamado_1746`\n",
        "      WHERE data_particao = \"2023-04-01\"\n",
        "          AND id_bairro IS NULL\n",
        "      GROUP BY situacao;\n",
        "'''\n",
        "\n",
        "df = bd.read_sql(sql,billing_project_id=project_id)\n",
        "\n",
        "print(\"\\n Após uma breve análise, conclui-se que grande parte dos chamados que não tem informações de localização estão com a situação 'encerrado',\\na possibilidade de que ao finalizar o chamado não esteja colocando informações de localização como bairro.\\n\")\n",
        "\n",
        "fig, ax = plt.subplots()\n",
        "bar_container = ax.bar(df['situacao'],df['qtd'])\n",
        "ax.set(title='Qtd de registros sem informação de localização classificados por situação')\n",
        "ax.bar_label(bar_container)\n",
        "plt.show()"
      ],
      "metadata": {
        "colab": {
          "base_uri": "https://localhost:8080/",
          "height": 539
        },
        "id": "q8fBhvLklTZd",
        "outputId": "661598ef-a3d6-48da-9b60-0a98336aa77f"
      },
      "execution_count": 61,
      "outputs": [
        {
          "output_type": "stream",
          "name": "stderr",
          "text": [
            "Downloading: 100%|██████████| 2/2 [00:00<00:00, 15.53rows/s]\n"
          ]
        },
        {
          "output_type": "stream",
          "name": "stdout",
          "text": [
            "\n",
            " Após uma breve análise, conclui-se que grande parte dos chamados que não tem informações de localização estão com a situação 'encerrado',\n",
            "a possibilidade de que ao finalizar o chamado não esteja colocando informações de localização como bairro.\n",
            "\n"
          ]
        },
        {
          "output_type": "display_data",
          "data": {
            "text/plain": [
              "<Figure size 640x480 with 1 Axes>"
            ],
            "image/png": "[encoded data removed]"
          },
          "metadata": {}
        }
      ]
    },
    {
      "cell_type": "markdown",
      "source": [
        "<br><h3>6. Quantos chamados com o subtipo \"Perturbação do sossego\" foram abertos desde 01/01/2022 até 31/12/2023 (incluindo extremidades)?</h3>"
      ],
      "metadata": {
        "id": "Ca_BXpU0pUH7"
      }
    },
    {
      "cell_type": "code",
      "source": [
        "sql = '''\n",
        "      SELECT Count(*)\n",
        "      FROM `datario.administracao_servicos_publicos.chamado_1746`\n",
        "      WHERE data_particao BETWEEN \"2022-01-01\" AND \"2023-12-01\"\n",
        "          AND subtipo = \"Perturbação do sossego\";\n",
        "'''\n",
        "\n",
        "df = bd.read_sql(sql,billing_project_id=project_id)\n"
      ],
      "metadata": {
        "colab": {
          "base_uri": "https://localhost:8080/"
        },
        "id": "sozS80Lhpues",
        "outputId": "fbb8f927-a5a1-4a65-a00f-3fffc846ac75"
      },
      "execution_count": 62,
      "outputs": [
        {
          "output_type": "stream",
          "name": "stderr",
          "text": [
            "Downloading: 100%|██████████| 1/1 [00:00<00:00,  8.42rows/s]\n"
          ]
        }
      ]
    },
    {
      "cell_type": "markdown",
      "source": [
        "<br><h3>7. Selecione os chamados com esse subtipo que foram abertos durante os eventos contidos na tabela de eventos (Reveillon, Carnaval e Rock in Rio).</h3>"
      ],
      "metadata": {
        "id": "nJti4uNmpe_5"
      }
    },
    {
      "cell_type": "code",
      "source": [
        "sql = '''\n",
        "      SELECT Count(*) AS qtd_chamados_abertos\n",
        "      FROM `datario.administracao_servicos_publicos.chamado_1746` c\n",
        "      JOIN `datario.turismo_fluxo_visitantes.rede_hoteleira_ocupacao_eventos` e\n",
        "      ON DATE(c.data_inicio) BETWEEN e.data_inicial AND e.data_final\n",
        "      WHERE data_particao BETWEEN \"2022-01-01\" AND \"2023-12-01\"\n",
        "          AND subtipo = \"Perturbação do sossego\";\n",
        "'''\n",
        "\n",
        "df = bd.read_sql(sql,billing_project_id=project_id)\n",
        "\n",
        "print(\"\\n\\n Foi selecionado os chamados que foram abertos, e a soma de chamados abertos nos eventos é de {}.\".format(int(df['qtd_chamados_abertos'])))"
      ],
      "metadata": {
        "colab": {
          "base_uri": "https://localhost:8080/"
        },
        "id": "4DHf_ieOpvBs",
        "outputId": "39be8926-1b50-4878-9dce-a9e0e0ba75a8"
      },
      "execution_count": 63,
      "outputs": [
        {
          "output_type": "stream",
          "name": "stderr",
          "text": [
            "Downloading: 100%|██████████| 1/1 [00:00<00:00,  5.79rows/s]"
          ]
        },
        {
          "output_type": "stream",
          "name": "stdout",
          "text": [
            "\n",
            "\n",
            " Foi selecionado os chamados que foram abertos, e a soma de chamados abertos nos eventos é de 1212.\n"
          ]
        },
        {
          "output_type": "stream",
          "name": "stderr",
          "text": [
            "\n"
          ]
        }
      ]
    },
    {
      "cell_type": "markdown",
      "source": [
        "<br><h3>8. Quantos chamados desse subtipo foram abertos em cada evento?</h3>"
      ],
      "metadata": {
        "id": "E4aOWk6MpfM7"
      }
    },
    {
      "cell_type": "code",
      "source": [
        "sql = '''\n",
        "      SELECT e.evento, Count(*) AS qtd_chamados_abertos\n",
        "      FROM `datario.administracao_servicos_publicos.chamado_1746` c\n",
        "      JOIN `datario.turismo_fluxo_visitantes.rede_hoteleira_ocupacao_eventos` e\n",
        "      ON DATE(c.data_inicio) BETWEEN e.data_inicial AND e.data_final\n",
        "      WHERE data_particao BETWEEN \"2022-01-01\" AND \"2023-12-01\"\n",
        "          AND subtipo = \"Perturbação do sossego\"\n",
        "      GROUP BY e.evento\n",
        "      ORDER BY 2 DESC;\n",
        "'''\n",
        "\n",
        "df = bd.read_sql(sql,billing_project_id=project_id)\n",
        "\n",
        "fig, ax = plt.subplots()\n",
        "bar_container = ax.bar(df['evento'], df['qtd_chamados_abertos'])\n",
        "ax.set(title='Qtd de chamados abertos por \"Perturbação do sossego\" nos eventos')\n",
        "ax.bar_label(bar_container)\n",
        "plt.show()"
      ],
      "metadata": {
        "colab": {
          "base_uri": "https://localhost:8080/",
          "height": 469
        },
        "id": "e16ELxWFpvav",
        "outputId": "9ceb541d-0a67-4eb2-9c39-500497016268"
      },
      "execution_count": 64,
      "outputs": [
        {
          "output_type": "stream",
          "name": "stderr",
          "text": [
            "Downloading: 100%|██████████| 3/3 [00:00<00:00, 26.80rows/s]\n"
          ]
        },
        {
          "output_type": "display_data",
          "data": {
            "text/plain": [
              "<Figure size 640x480 with 1 Axes>"
            ],
            "image/png": "[encoded data removed]"
          },
          "metadata": {}
        }
      ]
    },
    {
      "cell_type": "markdown",
      "source": [
        "<br><h3>9. Qual evento teve a maior média diária de chamados abertos desse subtipo?</h3>"
      ],
      "metadata": {
        "id": "SFRHDtxjpfXS"
      }
    },
    {
      "cell_type": "code",
      "source": [
        "sql = '''\n",
        "      SELECT evento, ROUND(AVG(qtd_chamados_abertos)) AS media_diaria\n",
        "      FROM (\n",
        "            SELECT DATE(c.data_inicio), e.evento, Count(*) AS qtd_chamados_abertos\n",
        "            FROM `datario.administracao_servicos_publicos.chamado_1746` c\n",
        "            JOIN `datario.turismo_fluxo_visitantes.rede_hoteleira_ocupacao_eventos` e\n",
        "            ON DATE(c.data_inicio) BETWEEN e.data_inicial AND e.data_final\n",
        "            WHERE data_particao BETWEEN \"2022-01-01\" AND \"2023-12-01\"\n",
        "                AND subtipo = \"Perturbação do sossego\"\n",
        "            GROUP BY e.evento, DATE(c.data_inicio)\n",
        "      )\n",
        "      GROUP BY evento\n",
        "      ORDER BY 2 DESC;\n",
        "'''\n",
        "\n",
        "df = bd.read_sql(sql,billing_project_id=project_id)\n",
        "\n",
        "print(\"\\nRock in Rio, com uma media diaria de aproximadamente 119 chamados abertos com o subtipo 'Perturbação do sossego'.\\n\")\n",
        "\n",
        "fig, ax = plt.subplots()\n",
        "bar_container = ax.bar(df['evento'],df['media_diaria'])\n",
        "ax.set(title='Média diária de chamados abertos por \"Perturbação do sossego\"')\n",
        "ax.bar_label(bar_container)\n",
        "plt.show()"
      ],
      "metadata": {
        "colab": {
          "base_uri": "https://localhost:8080/",
          "height": 522
        },
        "id": "9adFaEBSpv67",
        "outputId": "6e33be3e-f2fa-4fd1-9914-4db0e07d8dd4"
      },
      "execution_count": 65,
      "outputs": [
        {
          "output_type": "stream",
          "name": "stderr",
          "text": [
            "Downloading: 100%|██████████| 3/3 [00:00<00:00, 19.89rows/s]\n"
          ]
        },
        {
          "output_type": "stream",
          "name": "stdout",
          "text": [
            "\n",
            "Rock in Rio, com uma media diaria de aproximadamente 119 chamados abertos com o subtipo 'Perturbação do sossego'.\n",
            "\n"
          ]
        },
        {
          "output_type": "display_data",
          "data": {
            "text/plain": [
              "<Figure size 640x480 with 1 Axes>"
            ],
            "image/png": "[encoded data removed]"
          },
          "metadata": {}
        }
      ]
    },
    {
      "cell_type": "markdown",
      "source": [
        "<br><h3>10. Compare as médias diárias de chamados abertos desse subtipo durante os eventos específicos (Reveillon, Carnaval e Rock in Rio) e a média diária de chamados abertos desse subtipo considerando todo o período de 01/01/2022 até 31/12/2023.</h3>"
      ],
      "metadata": {
        "id": "Dtpzcobppfgh"
      }
    },
    {
      "cell_type": "code",
      "source": [
        "sql = '''\n",
        "      (SELECT evento, ROUND(AVG(qtd_chamados_abertos)) AS media_diaria\n",
        "      FROM (\n",
        "            SELECT DATE(c.data_inicio), e.evento, Count(*) AS qtd_chamados_abertos\n",
        "            FROM `datario.administracao_servicos_publicos.chamado_1746` c\n",
        "            JOIN `datario.turismo_fluxo_visitantes.rede_hoteleira_ocupacao_eventos` e\n",
        "            ON DATE(c.data_inicio) BETWEEN e.data_inicial AND e.data_final\n",
        "            WHERE data_particao BETWEEN \"2022-01-01\" AND \"2023-12-01\"\n",
        "                AND subtipo = \"Perturbação do sossego\"\n",
        "            GROUP BY e.evento, DATE(c.data_inicio)\n",
        "          )\n",
        "      GROUP BY evento\n",
        "      )\n",
        "      UNION ALL\n",
        "      (SELECT \"periodo_2022_2023\" AS evento,ROUND(AVG(qtd_chamados_abertos)) AS media_diaria\n",
        "      FROM (\n",
        "        SELECT DATE(data_inicio) AS data_chamado, Count(*) AS qtd_chamados_abertos\n",
        "        FROM `datario.administracao_servicos_publicos.chamado_1746`\n",
        "        WHERE data_particao BETWEEN \"2022-01-01\" AND \"2023-12-01\"\n",
        "            AND subtipo = \"Perturbação do sossego\"\n",
        "        GROUP BY DATE(data_inicio)\n",
        "      ))\n",
        "      ORDER BY 2 DESC;\n",
        "'''\n",
        "\n",
        "df = bd.read_sql(sql,billing_project_id=project_id)\n",
        "\n",
        "print(\"\\n Após realizar um comparativo entre a média diária de chamados abertos entre os eventos e \\\n",
        "e periodo de 2022|2023.\\nChegou-se a conclusão de que a média diária de chamados abertos do periodo é maior que a \\\n",
        "do Carnaval e Reveillon, mas não é maior do que o Rock in Rio'.\\n\")\n",
        "\n",
        "fig, ax = plt.subplots()\n",
        "bar_container = ax.bar(df['evento'],df['media_diaria'])\n",
        "ax.set(title='Média diária de chamados abertos por \"Perturbação do sossego\"')\n",
        "ax.bar_label(bar_container)\n",
        "plt.show()"
      ],
      "metadata": {
        "colab": {
          "base_uri": "https://localhost:8080/",
          "height": 540
        },
        "id": "3j-M73eUpbc8",
        "outputId": "a5d6c554-48e5-4704-c91e-96ac1ea2651a"
      },
      "execution_count": 66,
      "outputs": [
        {
          "output_type": "stream",
          "name": "stderr",
          "text": [
            "Downloading: 100%|██████████| 4/4 [00:00<00:00, 28.89rows/s]\n"
          ]
        },
        {
          "output_type": "stream",
          "name": "stdout",
          "text": [
            "\n",
            " Após realizar um comparativo entre a média diária de chamados abertos entre os eventos e e periodo de 2022|2023.\n",
            "Chegou-se a conclusão de que a média diária de chamados abertos do periodo é maior que a do Carnaval e Reveillon, mas não é maior do que o Rock in Rio'.\n",
            "\n"
          ]
        },
        {
          "output_type": "display_data",
          "data": {
            "text/plain": [
              "<Figure size 640x480 with 1 Axes>"
            ],
            "image/png": "[encoded data removed]"
          },
          "metadata": {}
        }
      ]
    },
    {
      "cell_type": "markdown",
      "source": [
        "*by Vitor Santos Lopes*\n",
        "\n"
      ],
      "metadata": {
        "id": "sbq0H791vag9"
      }
    }
  ]
}